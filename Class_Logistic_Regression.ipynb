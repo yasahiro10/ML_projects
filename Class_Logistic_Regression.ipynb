{
  "nbformat": 4,
  "nbformat_minor": 0,
  "metadata": {
    "colab": {
      "provenance": [],
      "authorship_tag": "ABX9TyOlrpBbq3DiKkWcMZgZ11cn",
      "include_colab_link": true
    },
    "kernelspec": {
      "name": "python3",
      "display_name": "Python 3"
    },
    "language_info": {
      "name": "python"
    }
  },
  "cells": [
    {
      "cell_type": "markdown",
      "metadata": {
        "id": "view-in-github",
        "colab_type": "text"
      },
      "source": [
        "<a href=\"https://colab.research.google.com/github/yasahiro10/ML_projects/blob/main/Class_Logistic_Regression.ipynb\" target=\"_parent\"><img src=\"https://colab.research.google.com/assets/colab-badge.svg\" alt=\"Open In Colab\"/></a>"
      ]
    },
    {
      "cell_type": "markdown",
      "source": [
        "<a id=\"ref1\"></a>\n",
        "\n",
        "## What is the difference between Linear and Logistic Regression?\n",
        "\n",
        "While Linear Regression is suited for estimating continuous values (e.g. estimating house price), it is not the best tool for predicting the class of an observed data point. In order to estimate the class of a data point, we need some sort of guidance on what would be the <b>most probable class</b> for that data point. For this, we use <b>Logistic Regression</b>.\n",
        "\n",
        "<div class=\"alert alert-success alertsuccess\" style=\"margin-top: 20px\">\n",
        "<font size = 3><strong>Recall linear regression:</strong></font>\n",
        "<br>\n",
        "<br>\n",
        "    As you know, <b>Linear regression</b> finds a function that relates a continuous dependent variable, <b>y</b>, to some predictors (independent variables $x_1$, $x_2$, etc.). For example, simple linear regression assumes a function of the form:\n",
        "<br><br>\n",
        "$$\n",
        "y = \\theta_0 + \\theta_1  x_1 + \\theta_2  x_2 + \\cdots\n",
        "$$\n",
        "<br>\n",
        "and finds the values of parameters $\\theta_0, \\theta_1, \\theta_2$, etc, where the term $\\theta_0$ is the \"intercept\". It can be generally shown as:\n",
        "<br><br>\n",
        "$$\n",
        "ℎ_\\theta(𝑥) = \\theta^TX\n",
        "$$\n",
        "<p></p>\n",
        "\n",
        "</div>\n",
        "\n",
        "Logistic Regression is a variation of Linear Regression, used when the observed dependent variable, <b>y</b>, is categorical. It produces a formula that predicts the probability of the class label as a function of the independent variables.\n",
        "\n",
        "Logistic regression fits a special s-shaped curve by taking the linear regression function and transforming the numeric estimate into a probability with the following function, which is called the sigmoid function 𝜎:\n",
        "\n",
        "$$\n",
        "ℎ\\_\\theta(𝑥) = \\sigma({\\theta^TX}) =  \\frac {e^{(\\theta\\_0 + \\theta\\_1  x\\_1 + \\theta\\_2  x\\_2 +...)}}{1 + e^{(\\theta\\_0 + \\theta\\_1  x\\_1 + \\theta\\_2  x\\_2 +\\cdots)}}\n",
        "$$\n",
        "Or:\n",
        "$$\n",
        "ProbabilityOfaClass\\_1 =  P(Y=1|X) = \\sigma({\\theta^TX}) = \\frac{e^{\\theta^TX}}{1+e^{\\theta^TX}}\n",
        "$$\n",
        "\n",
        "In this equation, ${\\theta^TX}$ is the regression result (the sum of the variables weighted by the coefficients), `exp` is the exponential function and $\\sigma(\\theta^TX)$ is the sigmoid or [logistic function](http://en.wikipedia.org/wiki/Logistic_function?utm_medium=Exinfluencer&utm_source=Exinfluencer&utm_content=000026UJ&utm_term=10006555&utm_id=NA-SkillsNetwork-Channel-SkillsNetworkCoursesIBMDeveloperSkillsNetworkML0101ENSkillsNetwork20718538-2021-01-01), also called logistic curve. It is a common \"S\" shape (sigmoid curve).\n",
        "\n",
        "So, briefly, Logistic Regression passes the input through the logistic/sigmoid but then treats the result as a probability:\n",
        "\n",
        "<img src=\"https://cf-courses-data.s3.us.cloud-object-storage.appdomain.cloud/IBMDeveloperSkillsNetwork-ML0101EN-SkillsNetwork/labs/Module%203/images/mod_ID_24_final.png\" width=\"400\" align=\"center\">\n",
        "\n",
        "The objective of the **Logistic Regression** algorithm, is to find the best parameters θ, for $ℎ\\_\\theta(𝑥)$ = $\\sigma({\\theta^TX})$, in such a way that the model best predicts the class of each case.\n",
        "\n"
      ],
      "metadata": {
        "id": "Hs37A-KIpr2B"
      }
    },
    {
      "cell_type": "code",
      "source": [
        "import pandas as pd\n",
        "import pylab as pl\n",
        "import numpy as np\n",
        "import scipy.optimize as opt\n",
        "from sklearn import preprocessing\n",
        "%matplotlib inline\n",
        "import matplotlib.pyplot as plt\n"
      ],
      "metadata": {
        "id": "8Rq5Bpmgp3wt"
      },
      "execution_count": null,
      "outputs": []
    },
    {
      "cell_type": "code",
      "source": [
        "churn_df=pd.read_csv(\"ChurnData.csv\")\n",
        "churn_df.head()"
      ],
      "metadata": {
        "colab": {
          "base_uri": "https://localhost:8080/",
          "height": 236
        },
        "id": "_C_PGgwKq1QV",
        "outputId": "992b6d39-4f9f-4ddb-fd3f-bc8ab4a9bf75"
      },
      "execution_count": null,
      "outputs": [
        {
          "output_type": "execute_result",
          "data": {
            "text/plain": [
              "   tenure   age  address  income   ed  employ  equip  callcard  wireless  \\\n",
              "0    11.0  33.0      7.0   136.0  5.0     5.0    0.0       1.0       1.0   \n",
              "1    33.0  33.0     12.0    33.0  2.0     0.0    0.0       0.0       0.0   \n",
              "2    23.0  30.0      9.0    30.0  1.0     2.0    0.0       0.0       0.0   \n",
              "3    38.0  35.0      5.0    76.0  2.0    10.0    1.0       1.0       1.0   \n",
              "4     7.0  35.0     14.0    80.0  2.0    15.0    0.0       1.0       0.0   \n",
              "\n",
              "   longmon  ...  pager  internet  callwait  confer  ebill  loglong  logtoll  \\\n",
              "0     4.40  ...    1.0       0.0       1.0     1.0    0.0    1.482    3.033   \n",
              "1     9.45  ...    0.0       0.0       0.0     0.0    0.0    2.246    3.240   \n",
              "2     6.30  ...    0.0       0.0       0.0     1.0    0.0    1.841    3.240   \n",
              "3     6.05  ...    1.0       1.0       1.0     1.0    1.0    1.800    3.807   \n",
              "4     7.10  ...    0.0       0.0       1.0     1.0    0.0    1.960    3.091   \n",
              "\n",
              "   lninc  custcat  churn  \n",
              "0  4.913      4.0    1.0  \n",
              "1  3.497      1.0    1.0  \n",
              "2  3.401      3.0    0.0  \n",
              "3  4.331      4.0    0.0  \n",
              "4  4.382      3.0    0.0  \n",
              "\n",
              "[5 rows x 28 columns]"
            ],
            "text/html": [
              "\n",
              "  <div id=\"df-a7cf96db-da52-4909-8155-02a3c6b74021\" class=\"colab-df-container\">\n",
              "    <div>\n",
              "<style scoped>\n",
              "    .dataframe tbody tr th:only-of-type {\n",
              "        vertical-align: middle;\n",
              "    }\n",
              "\n",
              "    .dataframe tbody tr th {\n",
              "        vertical-align: top;\n",
              "    }\n",
              "\n",
              "    .dataframe thead th {\n",
              "        text-align: right;\n",
              "    }\n",
              "</style>\n",
              "<table border=\"1\" class=\"dataframe\">\n",
              "  <thead>\n",
              "    <tr style=\"text-align: right;\">\n",
              "      <th></th>\n",
              "      <th>tenure</th>\n",
              "      <th>age</th>\n",
              "      <th>address</th>\n",
              "      <th>income</th>\n",
              "      <th>ed</th>\n",
              "      <th>employ</th>\n",
              "      <th>equip</th>\n",
              "      <th>callcard</th>\n",
              "      <th>wireless</th>\n",
              "      <th>longmon</th>\n",
              "      <th>...</th>\n",
              "      <th>pager</th>\n",
              "      <th>internet</th>\n",
              "      <th>callwait</th>\n",
              "      <th>confer</th>\n",
              "      <th>ebill</th>\n",
              "      <th>loglong</th>\n",
              "      <th>logtoll</th>\n",
              "      <th>lninc</th>\n",
              "      <th>custcat</th>\n",
              "      <th>churn</th>\n",
              "    </tr>\n",
              "  </thead>\n",
              "  <tbody>\n",
              "    <tr>\n",
              "      <th>0</th>\n",
              "      <td>11.0</td>\n",
              "      <td>33.0</td>\n",
              "      <td>7.0</td>\n",
              "      <td>136.0</td>\n",
              "      <td>5.0</td>\n",
              "      <td>5.0</td>\n",
              "      <td>0.0</td>\n",
              "      <td>1.0</td>\n",
              "      <td>1.0</td>\n",
              "      <td>4.40</td>\n",
              "      <td>...</td>\n",
              "      <td>1.0</td>\n",
              "      <td>0.0</td>\n",
              "      <td>1.0</td>\n",
              "      <td>1.0</td>\n",
              "      <td>0.0</td>\n",
              "      <td>1.482</td>\n",
              "      <td>3.033</td>\n",
              "      <td>4.913</td>\n",
              "      <td>4.0</td>\n",
              "      <td>1.0</td>\n",
              "    </tr>\n",
              "    <tr>\n",
              "      <th>1</th>\n",
              "      <td>33.0</td>\n",
              "      <td>33.0</td>\n",
              "      <td>12.0</td>\n",
              "      <td>33.0</td>\n",
              "      <td>2.0</td>\n",
              "      <td>0.0</td>\n",
              "      <td>0.0</td>\n",
              "      <td>0.0</td>\n",
              "      <td>0.0</td>\n",
              "      <td>9.45</td>\n",
              "      <td>...</td>\n",
              "      <td>0.0</td>\n",
              "      <td>0.0</td>\n",
              "      <td>0.0</td>\n",
              "      <td>0.0</td>\n",
              "      <td>0.0</td>\n",
              "      <td>2.246</td>\n",
              "      <td>3.240</td>\n",
              "      <td>3.497</td>\n",
              "      <td>1.0</td>\n",
              "      <td>1.0</td>\n",
              "    </tr>\n",
              "    <tr>\n",
              "      <th>2</th>\n",
              "      <td>23.0</td>\n",
              "      <td>30.0</td>\n",
              "      <td>9.0</td>\n",
              "      <td>30.0</td>\n",
              "      <td>1.0</td>\n",
              "      <td>2.0</td>\n",
              "      <td>0.0</td>\n",
              "      <td>0.0</td>\n",
              "      <td>0.0</td>\n",
              "      <td>6.30</td>\n",
              "      <td>...</td>\n",
              "      <td>0.0</td>\n",
              "      <td>0.0</td>\n",
              "      <td>0.0</td>\n",
              "      <td>1.0</td>\n",
              "      <td>0.0</td>\n",
              "      <td>1.841</td>\n",
              "      <td>3.240</td>\n",
              "      <td>3.401</td>\n",
              "      <td>3.0</td>\n",
              "      <td>0.0</td>\n",
              "    </tr>\n",
              "    <tr>\n",
              "      <th>3</th>\n",
              "      <td>38.0</td>\n",
              "      <td>35.0</td>\n",
              "      <td>5.0</td>\n",
              "      <td>76.0</td>\n",
              "      <td>2.0</td>\n",
              "      <td>10.0</td>\n",
              "      <td>1.0</td>\n",
              "      <td>1.0</td>\n",
              "      <td>1.0</td>\n",
              "      <td>6.05</td>\n",
              "      <td>...</td>\n",
              "      <td>1.0</td>\n",
              "      <td>1.0</td>\n",
              "      <td>1.0</td>\n",
              "      <td>1.0</td>\n",
              "      <td>1.0</td>\n",
              "      <td>1.800</td>\n",
              "      <td>3.807</td>\n",
              "      <td>4.331</td>\n",
              "      <td>4.0</td>\n",
              "      <td>0.0</td>\n",
              "    </tr>\n",
              "    <tr>\n",
              "      <th>4</th>\n",
              "      <td>7.0</td>\n",
              "      <td>35.0</td>\n",
              "      <td>14.0</td>\n",
              "      <td>80.0</td>\n",
              "      <td>2.0</td>\n",
              "      <td>15.0</td>\n",
              "      <td>0.0</td>\n",
              "      <td>1.0</td>\n",
              "      <td>0.0</td>\n",
              "      <td>7.10</td>\n",
              "      <td>...</td>\n",
              "      <td>0.0</td>\n",
              "      <td>0.0</td>\n",
              "      <td>1.0</td>\n",
              "      <td>1.0</td>\n",
              "      <td>0.0</td>\n",
              "      <td>1.960</td>\n",
              "      <td>3.091</td>\n",
              "      <td>4.382</td>\n",
              "      <td>3.0</td>\n",
              "      <td>0.0</td>\n",
              "    </tr>\n",
              "  </tbody>\n",
              "</table>\n",
              "<p>5 rows × 28 columns</p>\n",
              "</div>\n",
              "    <div class=\"colab-df-buttons\">\n",
              "\n",
              "  <div class=\"colab-df-container\">\n",
              "    <button class=\"colab-df-convert\" onclick=\"convertToInteractive('df-a7cf96db-da52-4909-8155-02a3c6b74021')\"\n",
              "            title=\"Convert this dataframe to an interactive table.\"\n",
              "            style=\"display:none;\">\n",
              "\n",
              "  <svg xmlns=\"http://www.w3.org/2000/svg\" height=\"24px\" viewBox=\"0 -960 960 960\">\n",
              "    <path d=\"M120-120v-720h720v720H120Zm60-500h600v-160H180v160Zm220 220h160v-160H400v160Zm0 220h160v-160H400v160ZM180-400h160v-160H180v160Zm440 0h160v-160H620v160ZM180-180h160v-160H180v160Zm440 0h160v-160H620v160Z\"/>\n",
              "  </svg>\n",
              "    </button>\n",
              "\n",
              "  <style>\n",
              "    .colab-df-container {\n",
              "      display:flex;\n",
              "      gap: 12px;\n",
              "    }\n",
              "\n",
              "    .colab-df-convert {\n",
              "      background-color: #E8F0FE;\n",
              "      border: none;\n",
              "      border-radius: 50%;\n",
              "      cursor: pointer;\n",
              "      display: none;\n",
              "      fill: #1967D2;\n",
              "      height: 32px;\n",
              "      padding: 0 0 0 0;\n",
              "      width: 32px;\n",
              "    }\n",
              "\n",
              "    .colab-df-convert:hover {\n",
              "      background-color: #E2EBFA;\n",
              "      box-shadow: 0px 1px 2px rgba(60, 64, 67, 0.3), 0px 1px 3px 1px rgba(60, 64, 67, 0.15);\n",
              "      fill: #174EA6;\n",
              "    }\n",
              "\n",
              "    .colab-df-buttons div {\n",
              "      margin-bottom: 4px;\n",
              "    }\n",
              "\n",
              "    [theme=dark] .colab-df-convert {\n",
              "      background-color: #3B4455;\n",
              "      fill: #D2E3FC;\n",
              "    }\n",
              "\n",
              "    [theme=dark] .colab-df-convert:hover {\n",
              "      background-color: #434B5C;\n",
              "      box-shadow: 0px 1px 3px 1px rgba(0, 0, 0, 0.15);\n",
              "      filter: drop-shadow(0px 1px 2px rgba(0, 0, 0, 0.3));\n",
              "      fill: #FFFFFF;\n",
              "    }\n",
              "  </style>\n",
              "\n",
              "    <script>\n",
              "      const buttonEl =\n",
              "        document.querySelector('#df-a7cf96db-da52-4909-8155-02a3c6b74021 button.colab-df-convert');\n",
              "      buttonEl.style.display =\n",
              "        google.colab.kernel.accessAllowed ? 'block' : 'none';\n",
              "\n",
              "      async function convertToInteractive(key) {\n",
              "        const element = document.querySelector('#df-a7cf96db-da52-4909-8155-02a3c6b74021');\n",
              "        const dataTable =\n",
              "          await google.colab.kernel.invokeFunction('convertToInteractive',\n",
              "                                                    [key], {});\n",
              "        if (!dataTable) return;\n",
              "\n",
              "        const docLinkHtml = 'Like what you see? Visit the ' +\n",
              "          '<a target=\"_blank\" href=https://colab.research.google.com/notebooks/data_table.ipynb>data table notebook</a>'\n",
              "          + ' to learn more about interactive tables.';\n",
              "        element.innerHTML = '';\n",
              "        dataTable['output_type'] = 'display_data';\n",
              "        await google.colab.output.renderOutput(dataTable, element);\n",
              "        const docLink = document.createElement('div');\n",
              "        docLink.innerHTML = docLinkHtml;\n",
              "        element.appendChild(docLink);\n",
              "      }\n",
              "    </script>\n",
              "  </div>\n",
              "\n",
              "\n",
              "<div id=\"df-13256ecb-4c28-4caa-9d07-ba0d89f2d78d\">\n",
              "  <button class=\"colab-df-quickchart\" onclick=\"quickchart('df-13256ecb-4c28-4caa-9d07-ba0d89f2d78d')\"\n",
              "            title=\"Suggest charts\"\n",
              "            style=\"display:none;\">\n",
              "\n",
              "<svg xmlns=\"http://www.w3.org/2000/svg\" height=\"24px\"viewBox=\"0 0 24 24\"\n",
              "     width=\"24px\">\n",
              "    <g>\n",
              "        <path d=\"M19 3H5c-1.1 0-2 .9-2 2v14c0 1.1.9 2 2 2h14c1.1 0 2-.9 2-2V5c0-1.1-.9-2-2-2zM9 17H7v-7h2v7zm4 0h-2V7h2v10zm4 0h-2v-4h2v4z\"/>\n",
              "    </g>\n",
              "</svg>\n",
              "  </button>\n",
              "\n",
              "<style>\n",
              "  .colab-df-quickchart {\n",
              "      --bg-color: #E8F0FE;\n",
              "      --fill-color: #1967D2;\n",
              "      --hover-bg-color: #E2EBFA;\n",
              "      --hover-fill-color: #174EA6;\n",
              "      --disabled-fill-color: #AAA;\n",
              "      --disabled-bg-color: #DDD;\n",
              "  }\n",
              "\n",
              "  [theme=dark] .colab-df-quickchart {\n",
              "      --bg-color: #3B4455;\n",
              "      --fill-color: #D2E3FC;\n",
              "      --hover-bg-color: #434B5C;\n",
              "      --hover-fill-color: #FFFFFF;\n",
              "      --disabled-bg-color: #3B4455;\n",
              "      --disabled-fill-color: #666;\n",
              "  }\n",
              "\n",
              "  .colab-df-quickchart {\n",
              "    background-color: var(--bg-color);\n",
              "    border: none;\n",
              "    border-radius: 50%;\n",
              "    cursor: pointer;\n",
              "    display: none;\n",
              "    fill: var(--fill-color);\n",
              "    height: 32px;\n",
              "    padding: 0;\n",
              "    width: 32px;\n",
              "  }\n",
              "\n",
              "  .colab-df-quickchart:hover {\n",
              "    background-color: var(--hover-bg-color);\n",
              "    box-shadow: 0 1px 2px rgba(60, 64, 67, 0.3), 0 1px 3px 1px rgba(60, 64, 67, 0.15);\n",
              "    fill: var(--button-hover-fill-color);\n",
              "  }\n",
              "\n",
              "  .colab-df-quickchart-complete:disabled,\n",
              "  .colab-df-quickchart-complete:disabled:hover {\n",
              "    background-color: var(--disabled-bg-color);\n",
              "    fill: var(--disabled-fill-color);\n",
              "    box-shadow: none;\n",
              "  }\n",
              "\n",
              "  .colab-df-spinner {\n",
              "    border: 2px solid var(--fill-color);\n",
              "    border-color: transparent;\n",
              "    border-bottom-color: var(--fill-color);\n",
              "    animation:\n",
              "      spin 1s steps(1) infinite;\n",
              "  }\n",
              "\n",
              "  @keyframes spin {\n",
              "    0% {\n",
              "      border-color: transparent;\n",
              "      border-bottom-color: var(--fill-color);\n",
              "      border-left-color: var(--fill-color);\n",
              "    }\n",
              "    20% {\n",
              "      border-color: transparent;\n",
              "      border-left-color: var(--fill-color);\n",
              "      border-top-color: var(--fill-color);\n",
              "    }\n",
              "    30% {\n",
              "      border-color: transparent;\n",
              "      border-left-color: var(--fill-color);\n",
              "      border-top-color: var(--fill-color);\n",
              "      border-right-color: var(--fill-color);\n",
              "    }\n",
              "    40% {\n",
              "      border-color: transparent;\n",
              "      border-right-color: var(--fill-color);\n",
              "      border-top-color: var(--fill-color);\n",
              "    }\n",
              "    60% {\n",
              "      border-color: transparent;\n",
              "      border-right-color: var(--fill-color);\n",
              "    }\n",
              "    80% {\n",
              "      border-color: transparent;\n",
              "      border-right-color: var(--fill-color);\n",
              "      border-bottom-color: var(--fill-color);\n",
              "    }\n",
              "    90% {\n",
              "      border-color: transparent;\n",
              "      border-bottom-color: var(--fill-color);\n",
              "    }\n",
              "  }\n",
              "</style>\n",
              "\n",
              "  <script>\n",
              "    async function quickchart(key) {\n",
              "      const quickchartButtonEl =\n",
              "        document.querySelector('#' + key + ' button');\n",
              "      quickchartButtonEl.disabled = true;  // To prevent multiple clicks.\n",
              "      quickchartButtonEl.classList.add('colab-df-spinner');\n",
              "      try {\n",
              "        const charts = await google.colab.kernel.invokeFunction(\n",
              "            'suggestCharts', [key], {});\n",
              "      } catch (error) {\n",
              "        console.error('Error during call to suggestCharts:', error);\n",
              "      }\n",
              "      quickchartButtonEl.classList.remove('colab-df-spinner');\n",
              "      quickchartButtonEl.classList.add('colab-df-quickchart-complete');\n",
              "    }\n",
              "    (() => {\n",
              "      let quickchartButtonEl =\n",
              "        document.querySelector('#df-13256ecb-4c28-4caa-9d07-ba0d89f2d78d button');\n",
              "      quickchartButtonEl.style.display =\n",
              "        google.colab.kernel.accessAllowed ? 'block' : 'none';\n",
              "    })();\n",
              "  </script>\n",
              "</div>\n",
              "\n",
              "    </div>\n",
              "  </div>\n"
            ]
          },
          "metadata": {},
          "execution_count": 2
        }
      ]
    },
    {
      "cell_type": "code",
      "source": [
        "churn_df = churn_df[['tenure', 'age', 'address', 'income', 'ed', 'employ', 'equip',   'callcard', 'wireless','churn']]\n",
        "churn_df['churn'] = churn_df['churn'].astype('int')\n",
        "churn_df.head()"
      ],
      "metadata": {
        "id": "pPb1j0-frci-",
        "colab": {
          "base_uri": "https://localhost:8080/",
          "height": 310
        },
        "outputId": "95ada8b0-1cad-4034-f8f4-21974bc0f2ba"
      },
      "execution_count": null,
      "outputs": [
        {
          "output_type": "stream",
          "name": "stderr",
          "text": [
            "<ipython-input-3-044f3f307695>:2: SettingWithCopyWarning: \n",
            "A value is trying to be set on a copy of a slice from a DataFrame.\n",
            "Try using .loc[row_indexer,col_indexer] = value instead\n",
            "\n",
            "See the caveats in the documentation: https://pandas.pydata.org/pandas-docs/stable/user_guide/indexing.html#returning-a-view-versus-a-copy\n",
            "  churn_df['churn'] = churn_df['churn'].astype('int')\n"
          ]
        },
        {
          "output_type": "execute_result",
          "data": {
            "text/plain": [
              "   tenure   age  address  income   ed  employ  equip  callcard  wireless  \\\n",
              "0    11.0  33.0      7.0   136.0  5.0     5.0    0.0       1.0       1.0   \n",
              "1    33.0  33.0     12.0    33.0  2.0     0.0    0.0       0.0       0.0   \n",
              "2    23.0  30.0      9.0    30.0  1.0     2.0    0.0       0.0       0.0   \n",
              "3    38.0  35.0      5.0    76.0  2.0    10.0    1.0       1.0       1.0   \n",
              "4     7.0  35.0     14.0    80.0  2.0    15.0    0.0       1.0       0.0   \n",
              "\n",
              "   churn  \n",
              "0      1  \n",
              "1      1  \n",
              "2      0  \n",
              "3      0  \n",
              "4      0  "
            ],
            "text/html": [
              "\n",
              "  <div id=\"df-d0f3ca8e-b198-4647-82d8-060ad885f62a\" class=\"colab-df-container\">\n",
              "    <div>\n",
              "<style scoped>\n",
              "    .dataframe tbody tr th:only-of-type {\n",
              "        vertical-align: middle;\n",
              "    }\n",
              "\n",
              "    .dataframe tbody tr th {\n",
              "        vertical-align: top;\n",
              "    }\n",
              "\n",
              "    .dataframe thead th {\n",
              "        text-align: right;\n",
              "    }\n",
              "</style>\n",
              "<table border=\"1\" class=\"dataframe\">\n",
              "  <thead>\n",
              "    <tr style=\"text-align: right;\">\n",
              "      <th></th>\n",
              "      <th>tenure</th>\n",
              "      <th>age</th>\n",
              "      <th>address</th>\n",
              "      <th>income</th>\n",
              "      <th>ed</th>\n",
              "      <th>employ</th>\n",
              "      <th>equip</th>\n",
              "      <th>callcard</th>\n",
              "      <th>wireless</th>\n",
              "      <th>churn</th>\n",
              "    </tr>\n",
              "  </thead>\n",
              "  <tbody>\n",
              "    <tr>\n",
              "      <th>0</th>\n",
              "      <td>11.0</td>\n",
              "      <td>33.0</td>\n",
              "      <td>7.0</td>\n",
              "      <td>136.0</td>\n",
              "      <td>5.0</td>\n",
              "      <td>5.0</td>\n",
              "      <td>0.0</td>\n",
              "      <td>1.0</td>\n",
              "      <td>1.0</td>\n",
              "      <td>1</td>\n",
              "    </tr>\n",
              "    <tr>\n",
              "      <th>1</th>\n",
              "      <td>33.0</td>\n",
              "      <td>33.0</td>\n",
              "      <td>12.0</td>\n",
              "      <td>33.0</td>\n",
              "      <td>2.0</td>\n",
              "      <td>0.0</td>\n",
              "      <td>0.0</td>\n",
              "      <td>0.0</td>\n",
              "      <td>0.0</td>\n",
              "      <td>1</td>\n",
              "    </tr>\n",
              "    <tr>\n",
              "      <th>2</th>\n",
              "      <td>23.0</td>\n",
              "      <td>30.0</td>\n",
              "      <td>9.0</td>\n",
              "      <td>30.0</td>\n",
              "      <td>1.0</td>\n",
              "      <td>2.0</td>\n",
              "      <td>0.0</td>\n",
              "      <td>0.0</td>\n",
              "      <td>0.0</td>\n",
              "      <td>0</td>\n",
              "    </tr>\n",
              "    <tr>\n",
              "      <th>3</th>\n",
              "      <td>38.0</td>\n",
              "      <td>35.0</td>\n",
              "      <td>5.0</td>\n",
              "      <td>76.0</td>\n",
              "      <td>2.0</td>\n",
              "      <td>10.0</td>\n",
              "      <td>1.0</td>\n",
              "      <td>1.0</td>\n",
              "      <td>1.0</td>\n",
              "      <td>0</td>\n",
              "    </tr>\n",
              "    <tr>\n",
              "      <th>4</th>\n",
              "      <td>7.0</td>\n",
              "      <td>35.0</td>\n",
              "      <td>14.0</td>\n",
              "      <td>80.0</td>\n",
              "      <td>2.0</td>\n",
              "      <td>15.0</td>\n",
              "      <td>0.0</td>\n",
              "      <td>1.0</td>\n",
              "      <td>0.0</td>\n",
              "      <td>0</td>\n",
              "    </tr>\n",
              "  </tbody>\n",
              "</table>\n",
              "</div>\n",
              "    <div class=\"colab-df-buttons\">\n",
              "\n",
              "  <div class=\"colab-df-container\">\n",
              "    <button class=\"colab-df-convert\" onclick=\"convertToInteractive('df-d0f3ca8e-b198-4647-82d8-060ad885f62a')\"\n",
              "            title=\"Convert this dataframe to an interactive table.\"\n",
              "            style=\"display:none;\">\n",
              "\n",
              "  <svg xmlns=\"http://www.w3.org/2000/svg\" height=\"24px\" viewBox=\"0 -960 960 960\">\n",
              "    <path d=\"M120-120v-720h720v720H120Zm60-500h600v-160H180v160Zm220 220h160v-160H400v160Zm0 220h160v-160H400v160ZM180-400h160v-160H180v160Zm440 0h160v-160H620v160ZM180-180h160v-160H180v160Zm440 0h160v-160H620v160Z\"/>\n",
              "  </svg>\n",
              "    </button>\n",
              "\n",
              "  <style>\n",
              "    .colab-df-container {\n",
              "      display:flex;\n",
              "      gap: 12px;\n",
              "    }\n",
              "\n",
              "    .colab-df-convert {\n",
              "      background-color: #E8F0FE;\n",
              "      border: none;\n",
              "      border-radius: 50%;\n",
              "      cursor: pointer;\n",
              "      display: none;\n",
              "      fill: #1967D2;\n",
              "      height: 32px;\n",
              "      padding: 0 0 0 0;\n",
              "      width: 32px;\n",
              "    }\n",
              "\n",
              "    .colab-df-convert:hover {\n",
              "      background-color: #E2EBFA;\n",
              "      box-shadow: 0px 1px 2px rgba(60, 64, 67, 0.3), 0px 1px 3px 1px rgba(60, 64, 67, 0.15);\n",
              "      fill: #174EA6;\n",
              "    }\n",
              "\n",
              "    .colab-df-buttons div {\n",
              "      margin-bottom: 4px;\n",
              "    }\n",
              "\n",
              "    [theme=dark] .colab-df-convert {\n",
              "      background-color: #3B4455;\n",
              "      fill: #D2E3FC;\n",
              "    }\n",
              "\n",
              "    [theme=dark] .colab-df-convert:hover {\n",
              "      background-color: #434B5C;\n",
              "      box-shadow: 0px 1px 3px 1px rgba(0, 0, 0, 0.15);\n",
              "      filter: drop-shadow(0px 1px 2px rgba(0, 0, 0, 0.3));\n",
              "      fill: #FFFFFF;\n",
              "    }\n",
              "  </style>\n",
              "\n",
              "    <script>\n",
              "      const buttonEl =\n",
              "        document.querySelector('#df-d0f3ca8e-b198-4647-82d8-060ad885f62a button.colab-df-convert');\n",
              "      buttonEl.style.display =\n",
              "        google.colab.kernel.accessAllowed ? 'block' : 'none';\n",
              "\n",
              "      async function convertToInteractive(key) {\n",
              "        const element = document.querySelector('#df-d0f3ca8e-b198-4647-82d8-060ad885f62a');\n",
              "        const dataTable =\n",
              "          await google.colab.kernel.invokeFunction('convertToInteractive',\n",
              "                                                    [key], {});\n",
              "        if (!dataTable) return;\n",
              "\n",
              "        const docLinkHtml = 'Like what you see? Visit the ' +\n",
              "          '<a target=\"_blank\" href=https://colab.research.google.com/notebooks/data_table.ipynb>data table notebook</a>'\n",
              "          + ' to learn more about interactive tables.';\n",
              "        element.innerHTML = '';\n",
              "        dataTable['output_type'] = 'display_data';\n",
              "        await google.colab.output.renderOutput(dataTable, element);\n",
              "        const docLink = document.createElement('div');\n",
              "        docLink.innerHTML = docLinkHtml;\n",
              "        element.appendChild(docLink);\n",
              "      }\n",
              "    </script>\n",
              "  </div>\n",
              "\n",
              "\n",
              "<div id=\"df-147e0aae-35f3-4005-a708-627e77b57478\">\n",
              "  <button class=\"colab-df-quickchart\" onclick=\"quickchart('df-147e0aae-35f3-4005-a708-627e77b57478')\"\n",
              "            title=\"Suggest charts\"\n",
              "            style=\"display:none;\">\n",
              "\n",
              "<svg xmlns=\"http://www.w3.org/2000/svg\" height=\"24px\"viewBox=\"0 0 24 24\"\n",
              "     width=\"24px\">\n",
              "    <g>\n",
              "        <path d=\"M19 3H5c-1.1 0-2 .9-2 2v14c0 1.1.9 2 2 2h14c1.1 0 2-.9 2-2V5c0-1.1-.9-2-2-2zM9 17H7v-7h2v7zm4 0h-2V7h2v10zm4 0h-2v-4h2v4z\"/>\n",
              "    </g>\n",
              "</svg>\n",
              "  </button>\n",
              "\n",
              "<style>\n",
              "  .colab-df-quickchart {\n",
              "      --bg-color: #E8F0FE;\n",
              "      --fill-color: #1967D2;\n",
              "      --hover-bg-color: #E2EBFA;\n",
              "      --hover-fill-color: #174EA6;\n",
              "      --disabled-fill-color: #AAA;\n",
              "      --disabled-bg-color: #DDD;\n",
              "  }\n",
              "\n",
              "  [theme=dark] .colab-df-quickchart {\n",
              "      --bg-color: #3B4455;\n",
              "      --fill-color: #D2E3FC;\n",
              "      --hover-bg-color: #434B5C;\n",
              "      --hover-fill-color: #FFFFFF;\n",
              "      --disabled-bg-color: #3B4455;\n",
              "      --disabled-fill-color: #666;\n",
              "  }\n",
              "\n",
              "  .colab-df-quickchart {\n",
              "    background-color: var(--bg-color);\n",
              "    border: none;\n",
              "    border-radius: 50%;\n",
              "    cursor: pointer;\n",
              "    display: none;\n",
              "    fill: var(--fill-color);\n",
              "    height: 32px;\n",
              "    padding: 0;\n",
              "    width: 32px;\n",
              "  }\n",
              "\n",
              "  .colab-df-quickchart:hover {\n",
              "    background-color: var(--hover-bg-color);\n",
              "    box-shadow: 0 1px 2px rgba(60, 64, 67, 0.3), 0 1px 3px 1px rgba(60, 64, 67, 0.15);\n",
              "    fill: var(--button-hover-fill-color);\n",
              "  }\n",
              "\n",
              "  .colab-df-quickchart-complete:disabled,\n",
              "  .colab-df-quickchart-complete:disabled:hover {\n",
              "    background-color: var(--disabled-bg-color);\n",
              "    fill: var(--disabled-fill-color);\n",
              "    box-shadow: none;\n",
              "  }\n",
              "\n",
              "  .colab-df-spinner {\n",
              "    border: 2px solid var(--fill-color);\n",
              "    border-color: transparent;\n",
              "    border-bottom-color: var(--fill-color);\n",
              "    animation:\n",
              "      spin 1s steps(1) infinite;\n",
              "  }\n",
              "\n",
              "  @keyframes spin {\n",
              "    0% {\n",
              "      border-color: transparent;\n",
              "      border-bottom-color: var(--fill-color);\n",
              "      border-left-color: var(--fill-color);\n",
              "    }\n",
              "    20% {\n",
              "      border-color: transparent;\n",
              "      border-left-color: var(--fill-color);\n",
              "      border-top-color: var(--fill-color);\n",
              "    }\n",
              "    30% {\n",
              "      border-color: transparent;\n",
              "      border-left-color: var(--fill-color);\n",
              "      border-top-color: var(--fill-color);\n",
              "      border-right-color: var(--fill-color);\n",
              "    }\n",
              "    40% {\n",
              "      border-color: transparent;\n",
              "      border-right-color: var(--fill-color);\n",
              "      border-top-color: var(--fill-color);\n",
              "    }\n",
              "    60% {\n",
              "      border-color: transparent;\n",
              "      border-right-color: var(--fill-color);\n",
              "    }\n",
              "    80% {\n",
              "      border-color: transparent;\n",
              "      border-right-color: var(--fill-color);\n",
              "      border-bottom-color: var(--fill-color);\n",
              "    }\n",
              "    90% {\n",
              "      border-color: transparent;\n",
              "      border-bottom-color: var(--fill-color);\n",
              "    }\n",
              "  }\n",
              "</style>\n",
              "\n",
              "  <script>\n",
              "    async function quickchart(key) {\n",
              "      const quickchartButtonEl =\n",
              "        document.querySelector('#' + key + ' button');\n",
              "      quickchartButtonEl.disabled = true;  // To prevent multiple clicks.\n",
              "      quickchartButtonEl.classList.add('colab-df-spinner');\n",
              "      try {\n",
              "        const charts = await google.colab.kernel.invokeFunction(\n",
              "            'suggestCharts', [key], {});\n",
              "      } catch (error) {\n",
              "        console.error('Error during call to suggestCharts:', error);\n",
              "      }\n",
              "      quickchartButtonEl.classList.remove('colab-df-spinner');\n",
              "      quickchartButtonEl.classList.add('colab-df-quickchart-complete');\n",
              "    }\n",
              "    (() => {\n",
              "      let quickchartButtonEl =\n",
              "        document.querySelector('#df-147e0aae-35f3-4005-a708-627e77b57478 button');\n",
              "      quickchartButtonEl.style.display =\n",
              "        google.colab.kernel.accessAllowed ? 'block' : 'none';\n",
              "    })();\n",
              "  </script>\n",
              "</div>\n",
              "\n",
              "    </div>\n",
              "  </div>\n"
            ]
          },
          "metadata": {},
          "execution_count": 3
        }
      ]
    },
    {
      "cell_type": "code",
      "source": [
        "churn_df.describe()"
      ],
      "metadata": {
        "colab": {
          "base_uri": "https://localhost:8080/",
          "height": 300
        },
        "id": "ptC5ZkgJ21T_",
        "outputId": "89ebe409-d6b7-4563-a670-a27626e269d1"
      },
      "execution_count": null,
      "outputs": [
        {
          "output_type": "execute_result",
          "data": {
            "text/plain": [
              "           tenure         age     address       income         ed     employ  \\\n",
              "count  200.000000  200.000000  200.000000   200.000000  200.00000  200.00000   \n",
              "mean    35.505000   41.165000   11.650000    75.130000    2.82500   10.22500   \n",
              "std     21.640971   13.076803   10.158419   128.430468    1.28555    8.95743   \n",
              "min      1.000000   19.000000    0.000000     9.000000    1.00000    0.00000   \n",
              "25%     16.750000   31.000000    3.000000    31.000000    2.00000    3.00000   \n",
              "50%     33.500000   40.000000    9.000000    48.000000    3.00000    7.50000   \n",
              "75%     55.250000   51.000000   18.000000    80.000000    4.00000   17.00000   \n",
              "max     72.000000   76.000000   48.000000  1668.000000    5.00000   44.00000   \n",
              "\n",
              "            equip    callcard    wireless       churn  \n",
              "count  200.000000  200.000000  200.000000  200.000000  \n",
              "mean     0.425000    0.705000    0.290000    0.290000  \n",
              "std      0.495584    0.457187    0.454901    0.454901  \n",
              "min      0.000000    0.000000    0.000000    0.000000  \n",
              "25%      0.000000    0.000000    0.000000    0.000000  \n",
              "50%      0.000000    1.000000    0.000000    0.000000  \n",
              "75%      1.000000    1.000000    1.000000    1.000000  \n",
              "max      1.000000    1.000000    1.000000    1.000000  "
            ],
            "text/html": [
              "\n",
              "  <div id=\"df-487761d1-b197-4fe7-8a5d-4d79abcb77fb\" class=\"colab-df-container\">\n",
              "    <div>\n",
              "<style scoped>\n",
              "    .dataframe tbody tr th:only-of-type {\n",
              "        vertical-align: middle;\n",
              "    }\n",
              "\n",
              "    .dataframe tbody tr th {\n",
              "        vertical-align: top;\n",
              "    }\n",
              "\n",
              "    .dataframe thead th {\n",
              "        text-align: right;\n",
              "    }\n",
              "</style>\n",
              "<table border=\"1\" class=\"dataframe\">\n",
              "  <thead>\n",
              "    <tr style=\"text-align: right;\">\n",
              "      <th></th>\n",
              "      <th>tenure</th>\n",
              "      <th>age</th>\n",
              "      <th>address</th>\n",
              "      <th>income</th>\n",
              "      <th>ed</th>\n",
              "      <th>employ</th>\n",
              "      <th>equip</th>\n",
              "      <th>callcard</th>\n",
              "      <th>wireless</th>\n",
              "      <th>churn</th>\n",
              "    </tr>\n",
              "  </thead>\n",
              "  <tbody>\n",
              "    <tr>\n",
              "      <th>count</th>\n",
              "      <td>200.000000</td>\n",
              "      <td>200.000000</td>\n",
              "      <td>200.000000</td>\n",
              "      <td>200.000000</td>\n",
              "      <td>200.00000</td>\n",
              "      <td>200.00000</td>\n",
              "      <td>200.000000</td>\n",
              "      <td>200.000000</td>\n",
              "      <td>200.000000</td>\n",
              "      <td>200.000000</td>\n",
              "    </tr>\n",
              "    <tr>\n",
              "      <th>mean</th>\n",
              "      <td>35.505000</td>\n",
              "      <td>41.165000</td>\n",
              "      <td>11.650000</td>\n",
              "      <td>75.130000</td>\n",
              "      <td>2.82500</td>\n",
              "      <td>10.22500</td>\n",
              "      <td>0.425000</td>\n",
              "      <td>0.705000</td>\n",
              "      <td>0.290000</td>\n",
              "      <td>0.290000</td>\n",
              "    </tr>\n",
              "    <tr>\n",
              "      <th>std</th>\n",
              "      <td>21.640971</td>\n",
              "      <td>13.076803</td>\n",
              "      <td>10.158419</td>\n",
              "      <td>128.430468</td>\n",
              "      <td>1.28555</td>\n",
              "      <td>8.95743</td>\n",
              "      <td>0.495584</td>\n",
              "      <td>0.457187</td>\n",
              "      <td>0.454901</td>\n",
              "      <td>0.454901</td>\n",
              "    </tr>\n",
              "    <tr>\n",
              "      <th>min</th>\n",
              "      <td>1.000000</td>\n",
              "      <td>19.000000</td>\n",
              "      <td>0.000000</td>\n",
              "      <td>9.000000</td>\n",
              "      <td>1.00000</td>\n",
              "      <td>0.00000</td>\n",
              "      <td>0.000000</td>\n",
              "      <td>0.000000</td>\n",
              "      <td>0.000000</td>\n",
              "      <td>0.000000</td>\n",
              "    </tr>\n",
              "    <tr>\n",
              "      <th>25%</th>\n",
              "      <td>16.750000</td>\n",
              "      <td>31.000000</td>\n",
              "      <td>3.000000</td>\n",
              "      <td>31.000000</td>\n",
              "      <td>2.00000</td>\n",
              "      <td>3.00000</td>\n",
              "      <td>0.000000</td>\n",
              "      <td>0.000000</td>\n",
              "      <td>0.000000</td>\n",
              "      <td>0.000000</td>\n",
              "    </tr>\n",
              "    <tr>\n",
              "      <th>50%</th>\n",
              "      <td>33.500000</td>\n",
              "      <td>40.000000</td>\n",
              "      <td>9.000000</td>\n",
              "      <td>48.000000</td>\n",
              "      <td>3.00000</td>\n",
              "      <td>7.50000</td>\n",
              "      <td>0.000000</td>\n",
              "      <td>1.000000</td>\n",
              "      <td>0.000000</td>\n",
              "      <td>0.000000</td>\n",
              "    </tr>\n",
              "    <tr>\n",
              "      <th>75%</th>\n",
              "      <td>55.250000</td>\n",
              "      <td>51.000000</td>\n",
              "      <td>18.000000</td>\n",
              "      <td>80.000000</td>\n",
              "      <td>4.00000</td>\n",
              "      <td>17.00000</td>\n",
              "      <td>1.000000</td>\n",
              "      <td>1.000000</td>\n",
              "      <td>1.000000</td>\n",
              "      <td>1.000000</td>\n",
              "    </tr>\n",
              "    <tr>\n",
              "      <th>max</th>\n",
              "      <td>72.000000</td>\n",
              "      <td>76.000000</td>\n",
              "      <td>48.000000</td>\n",
              "      <td>1668.000000</td>\n",
              "      <td>5.00000</td>\n",
              "      <td>44.00000</td>\n",
              "      <td>1.000000</td>\n",
              "      <td>1.000000</td>\n",
              "      <td>1.000000</td>\n",
              "      <td>1.000000</td>\n",
              "    </tr>\n",
              "  </tbody>\n",
              "</table>\n",
              "</div>\n",
              "    <div class=\"colab-df-buttons\">\n",
              "\n",
              "  <div class=\"colab-df-container\">\n",
              "    <button class=\"colab-df-convert\" onclick=\"convertToInteractive('df-487761d1-b197-4fe7-8a5d-4d79abcb77fb')\"\n",
              "            title=\"Convert this dataframe to an interactive table.\"\n",
              "            style=\"display:none;\">\n",
              "\n",
              "  <svg xmlns=\"http://www.w3.org/2000/svg\" height=\"24px\" viewBox=\"0 -960 960 960\">\n",
              "    <path d=\"M120-120v-720h720v720H120Zm60-500h600v-160H180v160Zm220 220h160v-160H400v160Zm0 220h160v-160H400v160ZM180-400h160v-160H180v160Zm440 0h160v-160H620v160ZM180-180h160v-160H180v160Zm440 0h160v-160H620v160Z\"/>\n",
              "  </svg>\n",
              "    </button>\n",
              "\n",
              "  <style>\n",
              "    .colab-df-container {\n",
              "      display:flex;\n",
              "      gap: 12px;\n",
              "    }\n",
              "\n",
              "    .colab-df-convert {\n",
              "      background-color: #E8F0FE;\n",
              "      border: none;\n",
              "      border-radius: 50%;\n",
              "      cursor: pointer;\n",
              "      display: none;\n",
              "      fill: #1967D2;\n",
              "      height: 32px;\n",
              "      padding: 0 0 0 0;\n",
              "      width: 32px;\n",
              "    }\n",
              "\n",
              "    .colab-df-convert:hover {\n",
              "      background-color: #E2EBFA;\n",
              "      box-shadow: 0px 1px 2px rgba(60, 64, 67, 0.3), 0px 1px 3px 1px rgba(60, 64, 67, 0.15);\n",
              "      fill: #174EA6;\n",
              "    }\n",
              "\n",
              "    .colab-df-buttons div {\n",
              "      margin-bottom: 4px;\n",
              "    }\n",
              "\n",
              "    [theme=dark] .colab-df-convert {\n",
              "      background-color: #3B4455;\n",
              "      fill: #D2E3FC;\n",
              "    }\n",
              "\n",
              "    [theme=dark] .colab-df-convert:hover {\n",
              "      background-color: #434B5C;\n",
              "      box-shadow: 0px 1px 3px 1px rgba(0, 0, 0, 0.15);\n",
              "      filter: drop-shadow(0px 1px 2px rgba(0, 0, 0, 0.3));\n",
              "      fill: #FFFFFF;\n",
              "    }\n",
              "  </style>\n",
              "\n",
              "    <script>\n",
              "      const buttonEl =\n",
              "        document.querySelector('#df-487761d1-b197-4fe7-8a5d-4d79abcb77fb button.colab-df-convert');\n",
              "      buttonEl.style.display =\n",
              "        google.colab.kernel.accessAllowed ? 'block' : 'none';\n",
              "\n",
              "      async function convertToInteractive(key) {\n",
              "        const element = document.querySelector('#df-487761d1-b197-4fe7-8a5d-4d79abcb77fb');\n",
              "        const dataTable =\n",
              "          await google.colab.kernel.invokeFunction('convertToInteractive',\n",
              "                                                    [key], {});\n",
              "        if (!dataTable) return;\n",
              "\n",
              "        const docLinkHtml = 'Like what you see? Visit the ' +\n",
              "          '<a target=\"_blank\" href=https://colab.research.google.com/notebooks/data_table.ipynb>data table notebook</a>'\n",
              "          + ' to learn more about interactive tables.';\n",
              "        element.innerHTML = '';\n",
              "        dataTable['output_type'] = 'display_data';\n",
              "        await google.colab.output.renderOutput(dataTable, element);\n",
              "        const docLink = document.createElement('div');\n",
              "        docLink.innerHTML = docLinkHtml;\n",
              "        element.appendChild(docLink);\n",
              "      }\n",
              "    </script>\n",
              "  </div>\n",
              "\n",
              "\n",
              "<div id=\"df-655ace2e-6210-4777-b621-6e321971cff8\">\n",
              "  <button class=\"colab-df-quickchart\" onclick=\"quickchart('df-655ace2e-6210-4777-b621-6e321971cff8')\"\n",
              "            title=\"Suggest charts\"\n",
              "            style=\"display:none;\">\n",
              "\n",
              "<svg xmlns=\"http://www.w3.org/2000/svg\" height=\"24px\"viewBox=\"0 0 24 24\"\n",
              "     width=\"24px\">\n",
              "    <g>\n",
              "        <path d=\"M19 3H5c-1.1 0-2 .9-2 2v14c0 1.1.9 2 2 2h14c1.1 0 2-.9 2-2V5c0-1.1-.9-2-2-2zM9 17H7v-7h2v7zm4 0h-2V7h2v10zm4 0h-2v-4h2v4z\"/>\n",
              "    </g>\n",
              "</svg>\n",
              "  </button>\n",
              "\n",
              "<style>\n",
              "  .colab-df-quickchart {\n",
              "      --bg-color: #E8F0FE;\n",
              "      --fill-color: #1967D2;\n",
              "      --hover-bg-color: #E2EBFA;\n",
              "      --hover-fill-color: #174EA6;\n",
              "      --disabled-fill-color: #AAA;\n",
              "      --disabled-bg-color: #DDD;\n",
              "  }\n",
              "\n",
              "  [theme=dark] .colab-df-quickchart {\n",
              "      --bg-color: #3B4455;\n",
              "      --fill-color: #D2E3FC;\n",
              "      --hover-bg-color: #434B5C;\n",
              "      --hover-fill-color: #FFFFFF;\n",
              "      --disabled-bg-color: #3B4455;\n",
              "      --disabled-fill-color: #666;\n",
              "  }\n",
              "\n",
              "  .colab-df-quickchart {\n",
              "    background-color: var(--bg-color);\n",
              "    border: none;\n",
              "    border-radius: 50%;\n",
              "    cursor: pointer;\n",
              "    display: none;\n",
              "    fill: var(--fill-color);\n",
              "    height: 32px;\n",
              "    padding: 0;\n",
              "    width: 32px;\n",
              "  }\n",
              "\n",
              "  .colab-df-quickchart:hover {\n",
              "    background-color: var(--hover-bg-color);\n",
              "    box-shadow: 0 1px 2px rgba(60, 64, 67, 0.3), 0 1px 3px 1px rgba(60, 64, 67, 0.15);\n",
              "    fill: var(--button-hover-fill-color);\n",
              "  }\n",
              "\n",
              "  .colab-df-quickchart-complete:disabled,\n",
              "  .colab-df-quickchart-complete:disabled:hover {\n",
              "    background-color: var(--disabled-bg-color);\n",
              "    fill: var(--disabled-fill-color);\n",
              "    box-shadow: none;\n",
              "  }\n",
              "\n",
              "  .colab-df-spinner {\n",
              "    border: 2px solid var(--fill-color);\n",
              "    border-color: transparent;\n",
              "    border-bottom-color: var(--fill-color);\n",
              "    animation:\n",
              "      spin 1s steps(1) infinite;\n",
              "  }\n",
              "\n",
              "  @keyframes spin {\n",
              "    0% {\n",
              "      border-color: transparent;\n",
              "      border-bottom-color: var(--fill-color);\n",
              "      border-left-color: var(--fill-color);\n",
              "    }\n",
              "    20% {\n",
              "      border-color: transparent;\n",
              "      border-left-color: var(--fill-color);\n",
              "      border-top-color: var(--fill-color);\n",
              "    }\n",
              "    30% {\n",
              "      border-color: transparent;\n",
              "      border-left-color: var(--fill-color);\n",
              "      border-top-color: var(--fill-color);\n",
              "      border-right-color: var(--fill-color);\n",
              "    }\n",
              "    40% {\n",
              "      border-color: transparent;\n",
              "      border-right-color: var(--fill-color);\n",
              "      border-top-color: var(--fill-color);\n",
              "    }\n",
              "    60% {\n",
              "      border-color: transparent;\n",
              "      border-right-color: var(--fill-color);\n",
              "    }\n",
              "    80% {\n",
              "      border-color: transparent;\n",
              "      border-right-color: var(--fill-color);\n",
              "      border-bottom-color: var(--fill-color);\n",
              "    }\n",
              "    90% {\n",
              "      border-color: transparent;\n",
              "      border-bottom-color: var(--fill-color);\n",
              "    }\n",
              "  }\n",
              "</style>\n",
              "\n",
              "  <script>\n",
              "    async function quickchart(key) {\n",
              "      const quickchartButtonEl =\n",
              "        document.querySelector('#' + key + ' button');\n",
              "      quickchartButtonEl.disabled = true;  // To prevent multiple clicks.\n",
              "      quickchartButtonEl.classList.add('colab-df-spinner');\n",
              "      try {\n",
              "        const charts = await google.colab.kernel.invokeFunction(\n",
              "            'suggestCharts', [key], {});\n",
              "      } catch (error) {\n",
              "        console.error('Error during call to suggestCharts:', error);\n",
              "      }\n",
              "      quickchartButtonEl.classList.remove('colab-df-spinner');\n",
              "      quickchartButtonEl.classList.add('colab-df-quickchart-complete');\n",
              "    }\n",
              "    (() => {\n",
              "      let quickchartButtonEl =\n",
              "        document.querySelector('#df-655ace2e-6210-4777-b621-6e321971cff8 button');\n",
              "      quickchartButtonEl.style.display =\n",
              "        google.colab.kernel.accessAllowed ? 'block' : 'none';\n",
              "    })();\n",
              "  </script>\n",
              "</div>\n",
              "\n",
              "    </div>\n",
              "  </div>\n"
            ]
          },
          "metadata": {},
          "execution_count": 4
        }
      ]
    },
    {
      "cell_type": "code",
      "source": [
        "churn_df.info()"
      ],
      "metadata": {
        "colab": {
          "base_uri": "https://localhost:8080/"
        },
        "id": "QiN4oZtU_JmR",
        "outputId": "9d324582-8771-4af2-fa17-c4022d4f70ad"
      },
      "execution_count": null,
      "outputs": [
        {
          "output_type": "stream",
          "name": "stdout",
          "text": [
            "<class 'pandas.core.frame.DataFrame'>\n",
            "RangeIndex: 200 entries, 0 to 199\n",
            "Data columns (total 10 columns):\n",
            " #   Column    Non-Null Count  Dtype  \n",
            "---  ------    --------------  -----  \n",
            " 0   tenure    200 non-null    float64\n",
            " 1   age       200 non-null    float64\n",
            " 2   address   200 non-null    float64\n",
            " 3   income    200 non-null    float64\n",
            " 4   ed        200 non-null    float64\n",
            " 5   employ    200 non-null    float64\n",
            " 6   equip     200 non-null    float64\n",
            " 7   callcard  200 non-null    float64\n",
            " 8   wireless  200 non-null    float64\n",
            " 9   churn     200 non-null    int64  \n",
            "dtypes: float64(9), int64(1)\n",
            "memory usage: 15.8 KB\n"
          ]
        }
      ]
    },
    {
      "cell_type": "code",
      "source": [
        "X= np.asarray(churn_df[['tenure', 'age', 'address', 'income', 'ed', 'employ', 'equip','callcard', 'wireless']])\n"
      ],
      "metadata": {
        "id": "rvy8HaXx_Pc5"
      },
      "execution_count": null,
      "outputs": []
    },
    {
      "cell_type": "code",
      "source": [
        "X[0:5]"
      ],
      "metadata": {
        "colab": {
          "base_uri": "https://localhost:8080/"
        },
        "id": "56PINZzm_pV7",
        "outputId": "8df0644f-fea7-49a0-91ff-9b3353046887"
      },
      "execution_count": null,
      "outputs": [
        {
          "output_type": "execute_result",
          "data": {
            "text/plain": [
              "array([[ 11.,  33.,   7., 136.,   5.,   5.,   0.,   1.,   1.],\n",
              "       [ 33.,  33.,  12.,  33.,   2.,   0.,   0.,   0.,   0.],\n",
              "       [ 23.,  30.,   9.,  30.,   1.,   2.,   0.,   0.,   0.],\n",
              "       [ 38.,  35.,   5.,  76.,   2.,  10.,   1.,   1.,   1.],\n",
              "       [  7.,  35.,  14.,  80.,   2.,  15.,   0.,   1.,   0.]])"
            ]
          },
          "metadata": {},
          "execution_count": 7
        }
      ]
    },
    {
      "cell_type": "code",
      "source": [
        "Y=np.asarray(churn_df['churn'])"
      ],
      "metadata": {
        "id": "m1_W-KMK_17i"
      },
      "execution_count": null,
      "outputs": []
    },
    {
      "cell_type": "code",
      "source": [
        "from sklearn import preprocessing\n",
        "X= preprocessing.StandardScaler().fit(X).transform(X)"
      ],
      "metadata": {
        "id": "5i2i0ZHfAGtS"
      },
      "execution_count": null,
      "outputs": []
    },
    {
      "cell_type": "code",
      "source": [
        "X[0:5]"
      ],
      "metadata": {
        "id": "hfWcbwdZAWxC",
        "outputId": "7911ab86-6cf6-412b-b95e-f730f5b52240",
        "colab": {
          "base_uri": "https://localhost:8080/"
        }
      },
      "execution_count": null,
      "outputs": [
        {
          "output_type": "execute_result",
          "data": {
            "text/plain": [
              "array([[-1.13518441, -0.62595491, -0.4588971 ,  0.4751423 ,  1.6961288 ,\n",
              "        -0.58477841, -0.85972695,  0.64686916,  1.56469673],\n",
              "       [-0.11604313, -0.62595491,  0.03454064, -0.32886061, -0.6433592 ,\n",
              "        -1.14437497, -0.85972695, -1.54590766, -0.63910148],\n",
              "       [-0.57928917, -0.85594447, -0.261522  , -0.35227817, -1.42318853,\n",
              "        -0.92053635, -0.85972695, -1.54590766, -0.63910148],\n",
              "       [ 0.11557989, -0.47262854, -0.65627219,  0.00679109, -0.6433592 ,\n",
              "        -0.02518185,  1.16316   ,  0.64686916,  1.56469673],\n",
              "       [-1.32048283, -0.47262854,  0.23191574,  0.03801451, -0.6433592 ,\n",
              "         0.53441472, -0.85972695,  0.64686916, -0.63910148]])"
            ]
          },
          "metadata": {},
          "execution_count": 10
        }
      ]
    },
    {
      "cell_type": "markdown",
      "source": [
        "![image.png](data:image/png;base64,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![image.png](data:image/png;base64,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))"
      ],
      "metadata": {
        "id": "T6ptiMVAhlhA"
      }
    },
    {
      "cell_type": "code",
      "source": [
        "from sklearn.model_selection import train_test_split\n",
        "X_train, X_test, y_train, y_test = train_test_split( X, Y, test_size=0.2, random_state=4)\n",
        "print ('Train set:', X_train.shape,  y_train.shape)\n",
        "print ('Test set:', X_test.shape,  y_test.shape)"
      ],
      "metadata": {
        "colab": {
          "base_uri": "https://localhost:8080/"
        },
        "id": "Lo84SmznjfSf",
        "outputId": "9cc7a910-64b7-4a4c-fecf-6a69661ab162"
      },
      "execution_count": null,
      "outputs": [
        {
          "output_type": "stream",
          "name": "stdout",
          "text": [
            "Train set: (160, 9) (160,)\n",
            "Test set: (40, 9) (40,)\n"
          ]
        }
      ]
    },
    {
      "cell_type": "code",
      "source": [
        "import sklearn\n",
        "from sklearn.linear_model import LogisticRegression\n",
        "from sklearn.metrics import confusion_matrix\n",
        "LR = LogisticRegression(C=0.01, solver='liblinear').fit(X_train,y_train)"
      ],
      "metadata": {
        "id": "g_65M5TNl5p9"
      },
      "execution_count": null,
      "outputs": []
    },
    {
      "cell_type": "code",
      "source": [
        "yhat = LR.predict(X_test)\n",
        "yhat\n"
      ],
      "metadata": {
        "id": "n5XgUcnj-oYQ"
      },
      "execution_count": null,
      "outputs": []
    },
    {
      "cell_type": "code",
      "source": [
        "yhat_prob = LR.predict_proba(X_test)\n",
        "yhat_prob"
      ],
      "metadata": {
        "colab": {
          "base_uri": "https://localhost:8080/"
        },
        "id": "m2g0AGCI_GtA",
        "outputId": "43a5ac1c-56f0-49ae-edd0-410a72d8818c"
      },
      "execution_count": null,
      "outputs": [
        {
          "output_type": "execute_result",
          "data": {
            "text/plain": [
              "array([[0.58711718, 0.41288282],\n",
              "       [0.56650898, 0.43349102],\n",
              "       [0.5313329 , 0.4686671 ],\n",
              "       [0.66722528, 0.33277472],\n",
              "       [0.53481231, 0.46518769],\n",
              "       [0.59508358, 0.40491642],\n",
              "       [0.49995014, 0.50004986],\n",
              "       [0.56532893, 0.43467107],\n",
              "       [0.39939231, 0.60060769],\n",
              "       [0.59368426, 0.40631574],\n",
              "       [0.54844546, 0.45155454],\n",
              "       [0.58957413, 0.41042587],\n",
              "       [0.52439771, 0.47560229],\n",
              "       [0.41344893, 0.58655107],\n",
              "       [0.68930146, 0.31069854],\n",
              "       [0.51576247, 0.48423753],\n",
              "       [0.4969602 , 0.5030398 ],\n",
              "       [0.46038301, 0.53961699],\n",
              "       [0.47010467, 0.52989533],\n",
              "       [0.57170621, 0.42829379],\n",
              "       [0.50781873, 0.49218127],\n",
              "       [0.49802608, 0.50197392],\n",
              "       [0.66938224, 0.33061776],\n",
              "       [0.49625351, 0.50374649],\n",
              "       [0.47635919, 0.52364081],\n",
              "       [0.73040145, 0.26959855],\n",
              "       [0.45111513, 0.54888487],\n",
              "       [0.49187403, 0.50812597],\n",
              "       [0.4927476 , 0.5072524 ],\n",
              "       [0.73618723, 0.26381277],\n",
              "       [0.70809718, 0.29190282],\n",
              "       [0.5549927 , 0.4450073 ],\n",
              "       [0.40681176, 0.59318824],\n",
              "       [0.73720605, 0.26279395],\n",
              "       [0.6355682 , 0.3644318 ],\n",
              "       [0.60354024, 0.39645976],\n",
              "       [0.45884949, 0.54115051],\n",
              "       [0.56829807, 0.43170193],\n",
              "       [0.68914305, 0.31085695],\n",
              "       [0.48020907, 0.51979093]])"
            ]
          },
          "metadata": {},
          "execution_count": 14
        }
      ]
    },
    {
      "cell_type": "code",
      "source": [
        "from sklearn.metrics import jaccard_score\n",
        "jaccard_score(y_test,yhat,pos_label=0)"
      ],
      "metadata": {
        "colab": {
          "base_uri": "https://localhost:8080/"
        },
        "id": "bUknRu7RAdKJ",
        "outputId": "53af4628-0dea-4a3d-cb48-fbe35c65b078"
      },
      "execution_count": null,
      "outputs": [
        {
          "output_type": "execute_result",
          "data": {
            "text/plain": [
              "0.5625"
            ]
          },
          "metadata": {},
          "execution_count": 15
        }
      ]
    },
    {
      "cell_type": "code",
      "source": [
        "from sklearn.metrics import classification_report, confusion_matrix\n",
        "import itertools\n",
        "def plot_confusion_matrix(cm, classes,\n",
        "                          normalize=False,\n",
        "                          title='Confusion matrix',\n",
        "                          cmap=plt.cm.Blues):\n",
        "    \"\"\"\n",
        "    This function prints and plots the confusion matrix.\n",
        "    Normalization can be applied by setting `normalize=True`.\n",
        "    \"\"\"\n",
        "    if normalize:\n",
        "        cm = cm.astype('float') / cm.sum(axis=1)[:, np.newaxis]\n",
        "        print(\"Normalized confusion matrix\")\n",
        "    else:\n",
        "        print('Confusion matrix, without normalization')\n",
        "\n",
        "    print(cm)\n",
        "\n",
        "    plt.imshow(cm, interpolation='nearest', cmap=cmap)\n",
        "    plt.title(title)\n",
        "    plt.colorbar()\n",
        "    tick_marks = np.arange(len(classes))\n",
        "    plt.xticks(tick_marks, classes, rotation=45)\n",
        "    plt.yticks(tick_marks, classes)\n",
        "\n",
        "    fmt = '.2f' if normalize else 'd'\n",
        "    thresh = cm.max() / 2.\n",
        "    for i, j in itertools.product(range(cm.shape[0]), range(cm.shape[1])):\n",
        "        plt.text(j, i, format(cm[i, j], fmt),\n",
        "                 horizontalalignment=\"center\",\n",
        "                 color=\"white\" if cm[i, j] > thresh else \"black\")\n",
        "\n",
        "    plt.tight_layout()\n",
        "    plt.ylabel('True label')\n",
        "    plt.xlabel('Predicted label')\n",
        "print(confusion_matrix(y_test, yhat, labels=[1,0]))"
      ],
      "metadata": {
        "colab": {
          "base_uri": "https://localhost:8080/"
        },
        "id": "5dzpuXAMAor8",
        "outputId": "3bbac57f-1f41-4cb2-810a-5b5dc973d925"
      },
      "execution_count": null,
      "outputs": [
        {
          "output_type": "stream",
          "name": "stdout",
          "text": [
            "[[ 8  7]\n",
            " [ 7 18]]\n"
          ]
        }
      ]
    },
    {
      "cell_type": "code",
      "source": [
        "# Compute confusion matrix\n",
        "cnf_matrix = confusion_matrix(y_test, yhat, labels=[1,0])\n",
        "np.set_printoptions(precision=2)\n",
        "\n",
        "\n",
        "# Plot non-normalized confusion matrix\n",
        "plt.figure()\n",
        "plot_confusion_matrix(cnf_matrix, classes=['churn=1','churn=0'],normalize= False,  title='Confusion matrix')"
      ],
      "metadata": {
        "colab": {
          "base_uri": "https://localhost:8080/",
          "height": 558
        },
        "id": "3bqGa3psAwcP",
        "outputId": "d078688e-6c48-4642-fca4-77a3a58869ec"
      },
      "execution_count": null,
      "outputs": [
        {
          "output_type": "stream",
          "name": "stdout",
          "text": [
            "Confusion matrix, without normalization\n",
            "[[ 8  7]\n",
            " [ 7 18]]\n"
          ]
        },
        {
          "output_type": "display_data",
          "data": {
            "text/plain": [
              "<Figure size 640x480 with 2 Axes>"
            ],
            "image/png": "[encoded data removed]"
          },
          "metadata": {}
        }
      ]
    },
    {
      "cell_type": "code",
      "source": [
        "print(classification_report(y_test,yhat))"
      ],
      "metadata": {
        "colab": {
          "base_uri": "https://localhost:8080/"
        },
        "id": "NV9ArElZAyr2",
        "outputId": "84734fd2-95c2-41d4-adcf-73c58a958af0"
      },
      "execution_count": null,
      "outputs": [
        {
          "output_type": "stream",
          "name": "stdout",
          "text": [
            "              precision    recall  f1-score   support\n",
            "\n",
            "           0       0.72      0.72      0.72        25\n",
            "           1       0.53      0.53      0.53        15\n",
            "\n",
            "    accuracy                           0.65        40\n",
            "   macro avg       0.63      0.63      0.63        40\n",
            "weighted avg       0.65      0.65      0.65        40\n",
            "\n"
          ]
        }
      ]
    },
    {
      "cell_type": "code",
      "source": [
        "from sklearn.metrics import log_loss\n",
        "log_loss(y_test, yhat_prob)"
      ],
      "metadata": {
        "colab": {
          "base_uri": "https://localhost:8080/"
        },
        "id": "2Ey84NJ-A_iG",
        "outputId": "407af4ea-dbe3-44bb-a0dd-758385cc4c25"
      },
      "execution_count": null,
      "outputs": [
        {
          "output_type": "execute_result",
          "data": {
            "text/plain": [
              "0.6155809757244557"
            ]
          },
          "metadata": {},
          "execution_count": 19
        }
      ]
    },
    {
      "cell_type": "code",
      "source": [
        "y_test"
      ],
      "metadata": {
        "id": "KasVH0FkBKqx",
        "colab": {
          "base_uri": "https://localhost:8080/"
        },
        "outputId": "ad667b0f-b844-439c-9e73-f979d93a5578"
      },
      "execution_count": null,
      "outputs": [
        {
          "output_type": "execute_result",
          "data": {
            "text/plain": [
              "array([0, 0, 1, 0, 1, 1, 1, 0, 1, 1, 0, 0, 0, 1, 0, 0, 1, 1, 1, 1, 0, 0,\n",
              "       0, 0, 0, 0, 0, 0, 0, 0, 0, 0, 1, 0, 1, 0, 1, 1, 0, 0])"
            ]
          },
          "metadata": {},
          "execution_count": 20
        }
      ]
    },
    {
      "cell_type": "code",
      "source": [
        "y_train"
      ],
      "metadata": {
        "colab": {
          "base_uri": "https://localhost:8080/"
        },
        "id": "fGhQr6CTi_Qq",
        "outputId": "1958e329-4120-4a4e-b1c7-c37b983383fc"
      },
      "execution_count": null,
      "outputs": [
        {
          "output_type": "execute_result",
          "data": {
            "text/plain": [
              "array([0, 1, 0, 0, 0, 0, 0, 0, 0, 0, 0, 0, 0, 1, 0, 0, 0, 0, 0, 0, 1, 1,\n",
              "       0, 0, 1, 1, 1, 0, 0, 0, 1, 0, 0, 1, 0, 0, 0, 1, 0, 0, 0, 0, 1, 0,\n",
              "       0, 0, 0, 0, 0, 1, 1, 0, 0, 0, 1, 0, 1, 0, 0, 0, 0, 1, 0, 1, 0, 1,\n",
              "       0, 0, 0, 0, 0, 0, 0, 0, 0, 0, 1, 0, 0, 0, 0, 0, 0, 0, 0, 0, 0, 0,\n",
              "       0, 0, 0, 0, 1, 0, 0, 1, 1, 0, 0, 0, 0, 1, 0, 1, 1, 0, 1, 1, 0, 0,\n",
              "       1, 1, 1, 0, 0, 0, 1, 0, 1, 0, 0, 0, 0, 0, 0, 1, 0, 0, 0, 1, 0, 1,\n",
              "       0, 0, 1, 0, 1, 1, 0, 0, 0, 0, 1, 0, 0, 1, 0, 1, 0, 0, 0, 1, 0, 0,\n",
              "       0, 0, 0, 0, 1, 0])"
            ]
          },
          "metadata": {},
          "execution_count": 21
        }
      ]
    },
    {
      "cell_type": "code",
      "source": [
        "LR = LogisticRegression(C=0.01, solver='saga').fit(X_train,y_train)"
      ],
      "metadata": {
        "id": "b42Cc-gYlSOS"
      },
      "execution_count": null,
      "outputs": []
    },
    {
      "cell_type": "code",
      "source": [
        "yhat = LR.predict(X_test)\n"
      ],
      "metadata": {
        "id": "5QJdh-ICs3xA"
      },
      "execution_count": null,
      "outputs": []
    },
    {
      "cell_type": "code",
      "source": [
        "from sklearn.metrics import jaccard_score\n",
        "jaccard_score(y_test,yhat,pos_label=0)\n"
      ],
      "metadata": {
        "colab": {
          "base_uri": "https://localhost:8080/"
        },
        "id": "mTqRSejttBuH",
        "outputId": "09067316-fd92-4d73-ead0-90c8236f2984"
      },
      "execution_count": null,
      "outputs": [
        {
          "output_type": "execute_result",
          "data": {
            "text/plain": [
              "0.625"
            ]
          },
          "metadata": {},
          "execution_count": 25
        }
      ]
    },
    {
      "cell_type": "code",
      "source": [
        "# Compute confusion matrix\n",
        "cnf_matrix = confusion_matrix(y_test, yhat, labels=[1,0])\n",
        "np.set_printoptions(precision=2)\n",
        "\n",
        "\n",
        "# Plot non-normalized confusion matrix\n",
        "plt.figure()\n",
        "plot_confusion_matrix(cnf_matrix, classes=['churn=1','churn=0'],normalize= False,  title='Confusion matrix')"
      ],
      "metadata": {
        "colab": {
          "base_uri": "https://localhost:8080/",
          "height": 558
        },
        "id": "QKjk-SmKtGcb",
        "outputId": "84aeeaf3-82f1-4220-d7e9-79a1c9b67335"
      },
      "execution_count": null,
      "outputs": [
        {
          "output_type": "stream",
          "name": "stdout",
          "text": [
            "Confusion matrix, without normalization\n",
            "[[ 0 15]\n",
            " [ 0 25]]\n"
          ]
        },
        {
          "output_type": "display_data",
          "data": {
            "text/plain": [
              "<Figure size 640x480 with 2 Axes>"
            ],
            "image/png": "[encoded data removed]"
          },
          "metadata": {}
        }
      ]
    },
    {
      "cell_type": "code",
      "source": [
        "print(classification_report(y_test,yhat))\n"
      ],
      "metadata": {
        "colab": {
          "base_uri": "https://localhost:8080/"
        },
        "id": "rFXgUNV_tcs9",
        "outputId": "ec0d7457-c344-44ca-d655-20b3296a1243"
      },
      "execution_count": null,
      "outputs": [
        {
          "output_type": "stream",
          "name": "stdout",
          "text": [
            "              precision    recall  f1-score   support\n",
            "\n",
            "           0       0.62      1.00      0.77        25\n",
            "           1       0.00      0.00      0.00        15\n",
            "\n",
            "    accuracy                           0.62        40\n",
            "   macro avg       0.31      0.50      0.38        40\n",
            "weighted avg       0.39      0.62      0.48        40\n",
            "\n"
          ]
        },
        {
          "output_type": "stream",
          "name": "stderr",
          "text": [
            "/usr/local/lib/python3.10/dist-packages/sklearn/metrics/_classification.py:1344: UndefinedMetricWarning: Precision and F-score are ill-defined and being set to 0.0 in labels with no predicted samples. Use `zero_division` parameter to control this behavior.\n",
            "  _warn_prf(average, modifier, msg_start, len(result))\n",
            "/usr/local/lib/python3.10/dist-packages/sklearn/metrics/_classification.py:1344: UndefinedMetricWarning: Precision and F-score are ill-defined and being set to 0.0 in labels with no predicted samples. Use `zero_division` parameter to control this behavior.\n",
            "  _warn_prf(average, modifier, msg_start, len(result))\n",
            "/usr/local/lib/python3.10/dist-packages/sklearn/metrics/_classification.py:1344: UndefinedMetricWarning: Precision and F-score are ill-defined and being set to 0.0 in labels with no predicted samples. Use `zero_division` parameter to control this behavior.\n",
            "  _warn_prf(average, modifier, msg_start, len(result))\n"
          ]
        }
      ]
    },
    {
      "cell_type": "code",
      "source": [
        "from sklearn.metrics import log_loss\n",
        "log_loss(y_test, yhat_prob)"
      ],
      "metadata": {
        "colab": {
          "base_uri": "https://localhost:8080/"
        },
        "id": "C121PTVwthPf",
        "outputId": "ff69bb72-89af-47c9-9d0b-7d338f107b7e"
      },
      "execution_count": null,
      "outputs": [
        {
          "output_type": "execute_result",
          "data": {
            "text/plain": [
              "0.6155809757244557"
            ]
          },
          "metadata": {},
          "execution_count": 28
        }
      ]
    },
    {
      "cell_type": "code",
      "source": [],
      "metadata": {
        "id": "z10PHn7rtyhS"
      },
      "execution_count": null,
      "outputs": []
    }
  ]
}